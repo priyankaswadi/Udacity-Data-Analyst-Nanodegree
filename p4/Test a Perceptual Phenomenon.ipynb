{
 "cells": [
  {
   "cell_type": "markdown",
   "metadata": {
    "collapsed": true
   },
   "source": [
    "<h1>Test a Perceptual Phenomenon\n",
    "</h1>"
   ]
  },
  {
   "cell_type": "markdown",
   "metadata": {},
   "source": [
    "<h2>Background Information</h2>\n",
    "\n",
    "In a Stroop task, participants are presented with a list of words, with each word displayed in a color of ink. The participant’s task is to say out loud the color of the ink in which the word is printed. The task has two conditions: a congruent words condition, and an incongruent words condition. In the congruent words condition, the words being displayed are color words whose names match the colors in which they are printed: for example <font color='red'>RED</font>,<font color='blue'>BLUE</font>. In the incongruent words condition, the words displayed are color words whose names do not match the colors in which they are printed: for example <font color='green'>PURPLE</font>, <font color='purple'>ORANGE</font>. In each case, we measure the time it takes to name the ink colors in equally-sized lists. Each participant will go through and record a time from each condition."
   ]
  },
  {
   "cell_type": "markdown",
   "metadata": {},
   "source": [
    "<h2>Questions for Investigation</h2>"
   ]
  },
  {
   "cell_type": "markdown",
   "metadata": {},
   "source": [
    "<h3>1. What is our independent variable? What is our dependent variable?</h3>\n",
    "\n",
    "The independent variable here are the two conditions specified for the task, i.e. the congruent words condition and the incongruent words conditions. The dependent variable here is the time it takes for each participant to name the ink color in each list."
   ]
  },
  {
   "cell_type": "markdown",
   "metadata": {},
   "source": [
    "<h3>2. What is an appropriate set of hypotheses for this task? What kind of statistical test do you expect to perform? Justify your choices.</h3>\n",
    "\n",
    "$H_{0}$ (null hypothesis) - The null hypothesis is that there is no difference in the average time it takes to name the ink color, between the congruent and incongruent word condition. Which in other words also means that it takes the same amount of time on average to say words which have matching color, as the words whose color doesn't match.\n",
    "\n",
    "$H_{a}$ (alternative Hypothesis) -  There is a difference in the average time it takes to name the ink color between the congruent and incongruent word condition.\n",
    "\n",
    "$\\mu_{c}$: population mean of congruent words<br />\n",
    "$\\mu_{i}$: population mean of incongruent words    \n",
    "\n",
    "Mathematically, this can be expressed as:\n",
    "\n",
    "\\begin{equation}\n",
    "H_0: \\mu_c - \\mu_i = 0\n",
    "\\end{equation}\n",
    "\\begin{equation}\n",
    "H_a:\\mu_c - \\mu_i \\neq 0\n",
    "\\end{equation}\n",
    "\n",
    "We will perform a <b>two-tailed dependent t-test</b>.\n",
    "\n",
    "We will use the t-test as opposed to the z test, because we do not know the standard deviation of the population and the sample size is 24, which is < 30.\n",
    "\n",
    "Reasons for performing <i>two-tailed</i> t-test is to test if the two means are significantly different from each other. It is expected that the mean for the incongruent condition should be higher. But this assumption could be incorrect. Hence as we have specified in our alternate hypothesis we will check for both increase or decrease. We will use the <i>dependent</i> t-test because we are testing repeatedly for the same set of participants under different conditions."
   ]
  },
  {
   "cell_type": "markdown",
   "metadata": {},
   "source": [
    "<h3>3. Report some descriptive statistics regarding this dataset. Include at least one measure of central tendency and at least one measure of variability.</h3>"
   ]
  },
  {
   "cell_type": "code",
   "execution_count": 3,
   "metadata": {
    "collapsed": true
   },
   "outputs": [],
   "source": [
    "import pandas as pd"
   ]
  },
  {
   "cell_type": "code",
   "execution_count": 4,
   "metadata": {
    "collapsed": true
   },
   "outputs": [],
   "source": [
    "ds = pd.read_csv(\"stroopdata.csv\")"
   ]
  },
  {
   "cell_type": "markdown",
   "metadata": {},
   "source": [
    "Let's take a look at the basic statistics for each group"
   ]
  },
  {
   "cell_type": "code",
   "execution_count": 5,
   "metadata": {},
   "outputs": [
    {
     "data": {
      "text/html": [
       "<div>\n",
       "<style>\n",
       "    .dataframe thead tr:only-child th {\n",
       "        text-align: right;\n",
       "    }\n",
       "\n",
       "    .dataframe thead th {\n",
       "        text-align: left;\n",
       "    }\n",
       "\n",
       "    .dataframe tbody tr th {\n",
       "        vertical-align: top;\n",
       "    }\n",
       "</style>\n",
       "<table border=\"1\" class=\"dataframe\">\n",
       "  <thead>\n",
       "    <tr style=\"text-align: right;\">\n",
       "      <th></th>\n",
       "      <th>Congruent</th>\n",
       "      <th>Incongruent</th>\n",
       "    </tr>\n",
       "  </thead>\n",
       "  <tbody>\n",
       "    <tr>\n",
       "      <th>count</th>\n",
       "      <td>24.000000</td>\n",
       "      <td>24.000000</td>\n",
       "    </tr>\n",
       "    <tr>\n",
       "      <th>mean</th>\n",
       "      <td>14.051125</td>\n",
       "      <td>22.015917</td>\n",
       "    </tr>\n",
       "    <tr>\n",
       "      <th>std</th>\n",
       "      <td>3.559358</td>\n",
       "      <td>4.797057</td>\n",
       "    </tr>\n",
       "    <tr>\n",
       "      <th>min</th>\n",
       "      <td>8.630000</td>\n",
       "      <td>15.687000</td>\n",
       "    </tr>\n",
       "    <tr>\n",
       "      <th>25%</th>\n",
       "      <td>11.895250</td>\n",
       "      <td>18.716750</td>\n",
       "    </tr>\n",
       "    <tr>\n",
       "      <th>50%</th>\n",
       "      <td>14.356500</td>\n",
       "      <td>21.017500</td>\n",
       "    </tr>\n",
       "    <tr>\n",
       "      <th>75%</th>\n",
       "      <td>16.200750</td>\n",
       "      <td>24.051500</td>\n",
       "    </tr>\n",
       "    <tr>\n",
       "      <th>max</th>\n",
       "      <td>22.328000</td>\n",
       "      <td>35.255000</td>\n",
       "    </tr>\n",
       "  </tbody>\n",
       "</table>\n",
       "</div>"
      ],
      "text/plain": [
       "       Congruent  Incongruent\n",
       "count  24.000000    24.000000\n",
       "mean   14.051125    22.015917\n",
       "std     3.559358     4.797057\n",
       "min     8.630000    15.687000\n",
       "25%    11.895250    18.716750\n",
       "50%    14.356500    21.017500\n",
       "75%    16.200750    24.051500\n",
       "max    22.328000    35.255000"
      ]
     },
     "execution_count": 5,
     "metadata": {},
     "output_type": "execute_result"
    }
   ],
   "source": [
    "ds.describe()"
   ]
  },
  {
   "cell_type": "markdown",
   "metadata": {},
   "source": [
    "As we can see for the congruent group sample mean = 14.05 and std deviation = 3.55. For the incongruent group, sample mean = 22.01 and std dev = 4.79."
   ]
  },
  {
   "cell_type": "markdown",
   "metadata": {},
   "source": [
    "<h3>4. Provide one or two visualizations that show the distribution of the sample data. Write one or two sentences noting what you observe about the plot or plots.</h3>"
   ]
  },
  {
   "cell_type": "code",
   "execution_count": 6,
   "metadata": {
    "collapsed": true
   },
   "outputs": [],
   "source": [
    "import matplotlib.pyplot as plt\n",
    "%matplotlib inline"
   ]
  },
  {
   "cell_type": "code",
   "execution_count": 7,
   "metadata": {},
   "outputs": [
    {
     "data": {
      "text/plain": [
       "Text(0,0.5,u'Time in seconds')"
      ]
     },
     "execution_count": 7,
     "metadata": {},
     "output_type": "execute_result"
    },
    {
     "data": {
      "image/png": "[encoded data removed]",
      "text/plain": [
       "<matplotlib.figure.Figure at 0xb756080>"
      ]
     },
     "metadata": {},
     "output_type": "display_data"
    }
   ],
   "source": [
    "ax = ds.plot.box()\n",
    "ax.set_title('Boxplot of Reaction Time for the two conditions')\n",
    "ax.set_ylabel(\"Time in seconds\")"
   ]
  },
  {
   "cell_type": "markdown",
   "metadata": {
    "collapsed": true
   },
   "source": [
    "As we can see from the boxplot above, the mean reaction time as well as the IQR are longer for Incongruent condition compared to congruent condition which is as expected from the statistics."
   ]
  },
  {
   "cell_type": "markdown",
   "metadata": {},
   "source": [
    "<h3>5. Now, perform the statistical test and report your results. What is your confidence level and your critical statistic value? Do you reject the null hypothesis or fail to reject it? Come to a conclusion in terms of the experiment task. Did the results match up with your expectations?</h3>\n",
    "\n",
    "N = 24 <br />\n",
    "\n",
    "Degrees of freedom (df) = 23 <br />\n",
    "\n",
    "Hence from the t-table, the critical value for t with $\\alpha$ = 0.05, \n",
    "\n",
    "$t_{critical}$ =  $\\pm$2.069<br />\n",
    "\n",
    "S = 4.86 (std dev for the difference)<br />\n",
    "\n",
    "Hence the SE (standard error):\n",
    "\n",
    "SE =  4.86/sqrt(24) = 0.99\n",
    "\n",
    "$\\mu_{c}$ - $\\mu_{i}$ = 14.05-22.01 = -7.96\n",
    "\n",
    "The t statistic (t) for this mean is:\n",
    "\n",
    "t = -7.96/0.99 = -8.04 which indicates a p value < 0.0001 \n",
    "\n",
    "As Tstatistic < Tcritical at alpha = 0.05 which is within the critical region, we <b>reject the null.</b>\n",
    "\n",
    "Now the margin of error (ME) for 95% Confidence Interval i.e with $\\alpha$ = 0.05 can be calculated as:\n",
    "\n",
    "ME = $t_{critical}$ \\* SE =  2.069 * 0.99 = 2.04\n",
    "\n",
    "Hence the 95% confidence interval for average difference in time for congruent and incongruent conditions is {-10.00,-5.91}\n",
    "\n",
    "This indicates that the participants react in significantly less time for the congruent condition as compared to the incongruent condition. Based on the sample values provided, this is as expected."
   ]
  },
  {
   "cell_type": "markdown",
   "metadata": {},
   "source": [
    "<h3>6. Optional: What do you think is responsible for the effects observed? Can you think of an alternative or similar task that would result in a similar effect? Some research about the problem will be helpful for thinking about these two questions!</h3>\n",
    "\n",
    "The brain apparently processes words faster than it processes colors, and hence in the incongruent condition, there is an extra lag in identifying the color when the text name also reads as a color which causes an interference. \n",
    "\n",
    "As found from the wiki page there are many similar variations of the Stroop test like Reverse Stroop test or Numerical Stroop test which result in a similar effect."
   ]
  },
  {
   "cell_type": "markdown",
   "metadata": {},
   "source": [
    "<h2>References</h2>\n",
    "https://stackoverflow.com/questions/19746350/how-does-one-change-color-in-markdown-cells-ipython-jupyter-notebook<br />\n",
    "https://stackoverflow.com/questions/13208286/how-to-write-latex-in-ipython-notebook<br />\n",
    "https://stackoverflow.com/questions/46011785/how-to-do-superscripts-and-subscripts-in-jupyter-notebook<br />\n",
    "https://pandas.pydata.org/pandas-docs/stable/visualization.html"
   ]
  }
 ],
 "metadata": {
  "kernelspec": {
   "display_name": "Python 2",
   "language": "python",
   "name": "python2"
  },
  "language_info": {
   "codemirror_mode": {
    "name": "ipython",
    "version": 2
   },
   "file_extension": ".py",
   "mimetype": "text/x-python",
   "name": "python",
   "nbconvert_exporter": "python",
   "pygments_lexer": "ipython2",
   "version": "2.7.14"
  }
 },
 "nbformat": 4,
 "nbformat_minor": 2
}
