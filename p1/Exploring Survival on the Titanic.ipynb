{
 "cells": [
  {
   "cell_type": "markdown",
   "metadata": {},
   "source": [
    "<h1>Exploring Survival on the Titanic</h1>"
   ]
  },
  {
   "cell_type": "markdown",
   "metadata": {},
   "source": [
    "The sinking of the RMS Titanic is one of the most infamous shipwrecks in history.  On April 15, 1912, during her maiden voyage, the Titanic sank after colliding with an iceberg, killing 1502 out of 2224 passengers and crew. This sensational tragedy shocked the international community and led to better safety regulations for ships.\n",
    "\n",
    "One of the reasons that the shipwreck led to such loss of life was that there were not enough lifeboats for the passengers and crew. Although there was some element of luck involved in surviving the sinking, some groups of people seemed more likely to survive than others, such as women, children, and the upper-class.\n",
    "\n",
    "More Information: https://en.wikipedia.org/wiki/RMS_Titanic\n",
    "\n",
    "In this project, we will investigate the dataset and explore who the passengers were and if some were more likely to survive than the others. Some of the questions that this dataset could answer are:\n",
    "\n",
    "1. How did gender and class affect survival?\n",
    "2. How did traveling alone vs traveling with spouse/children affect chances of survival? \n",
    "3. Were younger children more/less likely to survive than older ones?\n",
    "4. How did the survival statistics for children traveling with nannies compare to children traveling with their parents?\n",
    "\n",
    "First let's take a look what this dataset looks like.\n",
    "\n"
   ]
  },
  {
   "cell_type": "code",
   "execution_count": 2,
   "metadata": {
    "collapsed": true
   },
   "outputs": [],
   "source": [
    "import pandas as pd\n",
    "import numpy as np\n",
    "import matplotlib.pyplot as plt\n",
    "import seaborn as sns\n",
    "%matplotlib inline\n",
    "#To disable warnings for this particular notebook\n",
    "import warnings\n",
    "warnings.filterwarnings('ignore')"
   ]
  },
  {
   "cell_type": "code",
   "execution_count": 3,
   "metadata": {
    "scrolled": true
   },
   "outputs": [
    {
     "data": {
      "text/html": [
       "<div>\n",
       "<table border=\"1\" class=\"dataframe\">\n",
       "  <thead>\n",
       "    <tr style=\"text-align: right;\">\n",
       "      <th></th>\n",
       "      <th>PassengerId</th>\n",
       "      <th>Survived</th>\n",
       "      <th>Pclass</th>\n",
       "      <th>Name</th>\n",
       "      <th>Sex</th>\n",
       "      <th>Age</th>\n",
       "      <th>SibSp</th>\n",
       "      <th>Parch</th>\n",
       "      <th>Ticket</th>\n",
       "      <th>Fare</th>\n",
       "      <th>Cabin</th>\n",
       "      <th>Embarked</th>\n",
       "    </tr>\n",
       "  </thead>\n",
       "  <tbody>\n",
       "    <tr>\n",
       "      <th>0</th>\n",
       "      <td>1</td>\n",
       "      <td>0</td>\n",
       "      <td>3</td>\n",
       "      <td>Braund, Mr. Owen Harris</td>\n",
       "      <td>male</td>\n",
       "      <td>22.0</td>\n",
       "      <td>1</td>\n",
       "      <td>0</td>\n",
       "      <td>A/5 21171</td>\n",
       "      <td>7.2500</td>\n",
       "      <td>NaN</td>\n",
       "      <td>S</td>\n",
       "    </tr>\n",
       "    <tr>\n",
       "      <th>1</th>\n",
       "      <td>2</td>\n",
       "      <td>1</td>\n",
       "      <td>1</td>\n",
       "      <td>Cumings, Mrs. John Bradley (Florence Briggs Th...</td>\n",
       "      <td>female</td>\n",
       "      <td>38.0</td>\n",
       "      <td>1</td>\n",
       "      <td>0</td>\n",
       "      <td>PC 17599</td>\n",
       "      <td>71.2833</td>\n",
       "      <td>C85</td>\n",
       "      <td>C</td>\n",
       "    </tr>\n",
       "    <tr>\n",
       "      <th>2</th>\n",
       "      <td>3</td>\n",
       "      <td>1</td>\n",
       "      <td>3</td>\n",
       "      <td>Heikkinen, Miss. Laina</td>\n",
       "      <td>female</td>\n",
       "      <td>26.0</td>\n",
       "      <td>0</td>\n",
       "      <td>0</td>\n",
       "      <td>STON/O2. 3101282</td>\n",
       "      <td>7.9250</td>\n",
       "      <td>NaN</td>\n",
       "      <td>S</td>\n",
       "    </tr>\n",
       "    <tr>\n",
       "      <th>3</th>\n",
       "      <td>4</td>\n",
       "      <td>1</td>\n",
       "      <td>1</td>\n",
       "      <td>Futrelle, Mrs. Jacques Heath (Lily May Peel)</td>\n",
       "      <td>female</td>\n",
       "      <td>35.0</td>\n",
       "      <td>1</td>\n",
       "      <td>0</td>\n",
       "      <td>113803</td>\n",
       "      <td>53.1000</td>\n",
       "      <td>C123</td>\n",
       "      <td>S</td>\n",
       "    </tr>\n",
       "    <tr>\n",
       "      <th>4</th>\n",
       "      <td>5</td>\n",
       "      <td>0</td>\n",
       "      <td>3</td>\n",
       "      <td>Allen, Mr. William Henry</td>\n",
       "      <td>male</td>\n",
       "      <td>35.0</td>\n",
       "      <td>0</td>\n",
       "      <td>0</td>\n",
       "      <td>373450</td>\n",
       "      <td>8.0500</td>\n",
       "      <td>NaN</td>\n",
       "      <td>S</td>\n",
       "    </tr>\n",
       "    <tr>\n",
       "      <th>5</th>\n",
       "      <td>6</td>\n",
       "      <td>0</td>\n",
       "      <td>3</td>\n",
       "      <td>Moran, Mr. James</td>\n",
       "      <td>male</td>\n",
       "      <td>NaN</td>\n",
       "      <td>0</td>\n",
       "      <td>0</td>\n",
       "      <td>330877</td>\n",
       "      <td>8.4583</td>\n",
       "      <td>NaN</td>\n",
       "      <td>Q</td>\n",
       "    </tr>\n",
       "    <tr>\n",
       "      <th>6</th>\n",
       "      <td>7</td>\n",
       "      <td>0</td>\n",
       "      <td>1</td>\n",
       "      <td>McCarthy, Mr. Timothy J</td>\n",
       "      <td>male</td>\n",
       "      <td>54.0</td>\n",
       "      <td>0</td>\n",
       "      <td>0</td>\n",
       "      <td>17463</td>\n",
       "      <td>51.8625</td>\n",
       "      <td>E46</td>\n",
       "      <td>S</td>\n",
       "    </tr>\n",
       "    <tr>\n",
       "      <th>7</th>\n",
       "      <td>8</td>\n",
       "      <td>0</td>\n",
       "      <td>3</td>\n",
       "      <td>Palsson, Master. Gosta Leonard</td>\n",
       "      <td>male</td>\n",
       "      <td>2.0</td>\n",
       "      <td>3</td>\n",
       "      <td>1</td>\n",
       "      <td>349909</td>\n",
       "      <td>21.0750</td>\n",
       "      <td>NaN</td>\n",
       "      <td>S</td>\n",
       "    </tr>\n",
       "    <tr>\n",
       "      <th>8</th>\n",
       "      <td>9</td>\n",
       "      <td>1</td>\n",
       "      <td>3</td>\n",
       "      <td>Johnson, Mrs. Oscar W (Elisabeth Vilhelmina Berg)</td>\n",
       "      <td>female</td>\n",
       "      <td>27.0</td>\n",
       "      <td>0</td>\n",
       "      <td>2</td>\n",
       "      <td>347742</td>\n",
       "      <td>11.1333</td>\n",
       "      <td>NaN</td>\n",
       "      <td>S</td>\n",
       "    </tr>\n",
       "    <tr>\n",
       "      <th>9</th>\n",
       "      <td>10</td>\n",
       "      <td>1</td>\n",
       "      <td>2</td>\n",
       "      <td>Nasser, Mrs. Nicholas (Adele Achem)</td>\n",
       "      <td>female</td>\n",
       "      <td>14.0</td>\n",
       "      <td>1</td>\n",
       "      <td>0</td>\n",
       "      <td>237736</td>\n",
       "      <td>30.0708</td>\n",
       "      <td>NaN</td>\n",
       "      <td>C</td>\n",
       "    </tr>\n",
       "    <tr>\n",
       "      <th>10</th>\n",
       "      <td>11</td>\n",
       "      <td>1</td>\n",
       "      <td>3</td>\n",
       "      <td>Sandstrom, Miss. Marguerite Rut</td>\n",
       "      <td>female</td>\n",
       "      <td>4.0</td>\n",
       "      <td>1</td>\n",
       "      <td>1</td>\n",
       "      <td>PP 9549</td>\n",
       "      <td>16.7000</td>\n",
       "      <td>G6</td>\n",
       "      <td>S</td>\n",
       "    </tr>\n",
       "    <tr>\n",
       "      <th>11</th>\n",
       "      <td>12</td>\n",
       "      <td>1</td>\n",
       "      <td>1</td>\n",
       "      <td>Bonnell, Miss. Elizabeth</td>\n",
       "      <td>female</td>\n",
       "      <td>58.0</td>\n",
       "      <td>0</td>\n",
       "      <td>0</td>\n",
       "      <td>113783</td>\n",
       "      <td>26.5500</td>\n",
       "      <td>C103</td>\n",
       "      <td>S</td>\n",
       "    </tr>\n",
       "    <tr>\n",
       "      <th>12</th>\n",
       "      <td>13</td>\n",
       "      <td>0</td>\n",
       "      <td>3</td>\n",
       "      <td>Saundercock, Mr. William Henry</td>\n",
       "      <td>male</td>\n",
       "      <td>20.0</td>\n",
       "      <td>0</td>\n",
       "      <td>0</td>\n",
       "      <td>A/5. 2151</td>\n",
       "      <td>8.0500</td>\n",
       "      <td>NaN</td>\n",
       "      <td>S</td>\n",
       "    </tr>\n",
       "    <tr>\n",
       "      <th>13</th>\n",
       "      <td>14</td>\n",
       "      <td>0</td>\n",
       "      <td>3</td>\n",
       "      <td>Andersson, Mr. Anders Johan</td>\n",
       "      <td>male</td>\n",
       "      <td>39.0</td>\n",
       "      <td>1</td>\n",
       "      <td>5</td>\n",
       "      <td>347082</td>\n",
       "      <td>31.2750</td>\n",
       "      <td>NaN</td>\n",
       "      <td>S</td>\n",
       "    </tr>\n",
       "    <tr>\n",
       "      <th>14</th>\n",
       "      <td>15</td>\n",
       "      <td>0</td>\n",
       "      <td>3</td>\n",
       "      <td>Vestrom, Miss. Hulda Amanda Adolfina</td>\n",
       "      <td>female</td>\n",
       "      <td>14.0</td>\n",
       "      <td>0</td>\n",
       "      <td>0</td>\n",
       "      <td>350406</td>\n",
       "      <td>7.8542</td>\n",
       "      <td>NaN</td>\n",
       "      <td>S</td>\n",
       "    </tr>\n",
       "    <tr>\n",
       "      <th>15</th>\n",
       "      <td>16</td>\n",
       "      <td>1</td>\n",
       "      <td>2</td>\n",
       "      <td>Hewlett, Mrs. (Mary D Kingcome)</td>\n",
       "      <td>female</td>\n",
       "      <td>55.0</td>\n",
       "      <td>0</td>\n",
       "      <td>0</td>\n",
       "      <td>248706</td>\n",
       "      <td>16.0000</td>\n",
       "      <td>NaN</td>\n",
       "      <td>S</td>\n",
       "    </tr>\n",
       "    <tr>\n",
       "      <th>16</th>\n",
       "      <td>17</td>\n",
       "      <td>0</td>\n",
       "      <td>3</td>\n",
       "      <td>Rice, Master. Eugene</td>\n",
       "      <td>male</td>\n",
       "      <td>2.0</td>\n",
       "      <td>4</td>\n",
       "      <td>1</td>\n",
       "      <td>382652</td>\n",
       "      <td>29.1250</td>\n",
       "      <td>NaN</td>\n",
       "      <td>Q</td>\n",
       "    </tr>\n",
       "    <tr>\n",
       "      <th>17</th>\n",
       "      <td>18</td>\n",
       "      <td>1</td>\n",
       "      <td>2</td>\n",
       "      <td>Williams, Mr. Charles Eugene</td>\n",
       "      <td>male</td>\n",
       "      <td>NaN</td>\n",
       "      <td>0</td>\n",
       "      <td>0</td>\n",
       "      <td>244373</td>\n",
       "      <td>13.0000</td>\n",
       "      <td>NaN</td>\n",
       "      <td>S</td>\n",
       "    </tr>\n",
       "    <tr>\n",
       "      <th>18</th>\n",
       "      <td>19</td>\n",
       "      <td>0</td>\n",
       "      <td>3</td>\n",
       "      <td>Vander Planke, Mrs. Julius (Emelia Maria Vande...</td>\n",
       "      <td>female</td>\n",
       "      <td>31.0</td>\n",
       "      <td>1</td>\n",
       "      <td>0</td>\n",
       "      <td>345763</td>\n",
       "      <td>18.0000</td>\n",
       "      <td>NaN</td>\n",
       "      <td>S</td>\n",
       "    </tr>\n",
       "    <tr>\n",
       "      <th>19</th>\n",
       "      <td>20</td>\n",
       "      <td>1</td>\n",
       "      <td>3</td>\n",
       "      <td>Masselmani, Mrs. Fatima</td>\n",
       "      <td>female</td>\n",
       "      <td>NaN</td>\n",
       "      <td>0</td>\n",
       "      <td>0</td>\n",
       "      <td>2649</td>\n",
       "      <td>7.2250</td>\n",
       "      <td>NaN</td>\n",
       "      <td>C</td>\n",
       "    </tr>\n",
       "  </tbody>\n",
       "</table>\n",
       "</div>"
      ],
      "text/plain": [
       "    PassengerId  Survived  Pclass  \\\n",
       "0             1         0       3   \n",
       "1             2         1       1   \n",
       "2             3         1       3   \n",
       "3             4         1       1   \n",
       "4             5         0       3   \n",
       "5             6         0       3   \n",
       "6             7         0       1   \n",
       "7             8         0       3   \n",
       "8             9         1       3   \n",
       "9            10         1       2   \n",
       "10           11         1       3   \n",
       "11           12         1       1   \n",
       "12           13         0       3   \n",
       "13           14         0       3   \n",
       "14           15         0       3   \n",
       "15           16         1       2   \n",
       "16           17         0       3   \n",
       "17           18         1       2   \n",
       "18           19         0       3   \n",
       "19           20         1       3   \n",
       "\n",
       "                                                 Name     Sex   Age  SibSp  \\\n",
       "0                             Braund, Mr. Owen Harris    male  22.0      1   \n",
       "1   Cumings, Mrs. John Bradley (Florence Briggs Th...  female  38.0      1   \n",
       "2                              Heikkinen, Miss. Laina  female  26.0      0   \n",
       "3        Futrelle, Mrs. Jacques Heath (Lily May Peel)  female  35.0      1   \n",
       "4                            Allen, Mr. William Henry    male  35.0      0   \n",
       "5                                    Moran, Mr. James    male   NaN      0   \n",
       "6                             McCarthy, Mr. Timothy J    male  54.0      0   \n",
       "7                      Palsson, Master. Gosta Leonard    male   2.0      3   \n",
       "8   Johnson, Mrs. Oscar W (Elisabeth Vilhelmina Berg)  female  27.0      0   \n",
       "9                 Nasser, Mrs. Nicholas (Adele Achem)  female  14.0      1   \n",
       "10                    Sandstrom, Miss. Marguerite Rut  female   4.0      1   \n",
       "11                           Bonnell, Miss. Elizabeth  female  58.0      0   \n",
       "12                     Saundercock, Mr. William Henry    male  20.0      0   \n",
       "13                        Andersson, Mr. Anders Johan    male  39.0      1   \n",
       "14               Vestrom, Miss. Hulda Amanda Adolfina  female  14.0      0   \n",
       "15                   Hewlett, Mrs. (Mary D Kingcome)   female  55.0      0   \n",
       "16                               Rice, Master. Eugene    male   2.0      4   \n",
       "17                       Williams, Mr. Charles Eugene    male   NaN      0   \n",
       "18  Vander Planke, Mrs. Julius (Emelia Maria Vande...  female  31.0      1   \n",
       "19                            Masselmani, Mrs. Fatima  female   NaN      0   \n",
       "\n",
       "    Parch            Ticket     Fare Cabin Embarked  \n",
       "0       0         A/5 21171   7.2500   NaN        S  \n",
       "1       0          PC 17599  71.2833   C85        C  \n",
       "2       0  STON/O2. 3101282   7.9250   NaN        S  \n",
       "3       0            113803  53.1000  C123        S  \n",
       "4       0            373450   8.0500   NaN        S  \n",
       "5       0            330877   8.4583   NaN        Q  \n",
       "6       0             17463  51.8625   E46        S  \n",
       "7       1            349909  21.0750   NaN        S  \n",
       "8       2            347742  11.1333   NaN        S  \n",
       "9       0            237736  30.0708   NaN        C  \n",
       "10      1           PP 9549  16.7000    G6        S  \n",
       "11      0            113783  26.5500  C103        S  \n",
       "12      0         A/5. 2151   8.0500   NaN        S  \n",
       "13      5            347082  31.2750   NaN        S  \n",
       "14      0            350406   7.8542   NaN        S  \n",
       "15      0            248706  16.0000   NaN        S  \n",
       "16      1            382652  29.1250   NaN        Q  \n",
       "17      0            244373  13.0000   NaN        S  \n",
       "18      0            345763  18.0000   NaN        S  \n",
       "19      0              2649   7.2250   NaN        C  "
      ]
     },
     "execution_count": 3,
     "metadata": {},
     "output_type": "execute_result"
    }
   ],
   "source": [
    "filename = 'titanic-data.csv'\n",
    "titanic_dataset = pd.read_csv(filename)\n",
    "titanic_dataset.head(20)\n"
   ]
  },
  {
   "cell_type": "markdown",
   "metadata": {},
   "source": [
    "As we can see, many columns are self explanatory. Here's what the other columns indicate:\n",
    "\n",
    "Survived: indicates survival (0=No, 1=Yes)<br />\n",
    "Pclass: indicates ticket class (1=1st, 2=2nd, 3=3rd)<br />\n",
    "SibSp: indicates no. of siblings/spouse onboard <br />\n",
    "Parch: indicates no. of parents/children on board <br />\n",
    "Ticket: Ticket Number <br />\n",
    "Cabin: Cabin Number <br />\n",
    "Embarked: Port of Embarkation (S=Southampton, C= Cherbourg, Q=Queenstown) <br />\n",
    "\n",
    "Variable Notes\n",
    "\n",
    "pclass: A proxy for socio-economic status (SES)\n",
    "1st = Upper\n",
    "2nd = Middle\n",
    "3rd = Lower\n",
    "\n",
    "age: Age is fractional if less than 1. If the age is estimated, is it in the form of xx.5\n",
    "\n",
    "sibsp: The dataset defines family relations in this way...\n",
    "Sibling = brother, sister, stepbrother, stepsister\n",
    "Spouse = husband, wife (mistresses and fiancés were ignored)\n",
    "\n",
    "parch: The dataset defines family relations in this way...\n",
    "Parent = mother, father\n",
    "Child = daughter, son, stepdaughter, stepson\n",
    "Some children travelled only with a nanny, therefore parch=0 for them.\n"
   ]
  },
  {
   "cell_type": "markdown",
   "metadata": {},
   "source": [
    "<h2>Data Wrangling</h2>\n",
    "\n",
    "Before we analyse this dataset, we need to clean up the data. Some data values are observed to be missing in this sample itself and are indicated by NaN. Let's check which are."
   ]
  },
  {
   "cell_type": "code",
   "execution_count": 4,
   "metadata": {},
   "outputs": [
    {
     "data": {
      "text/plain": [
       "PassengerId      0\n",
       "Survived         0\n",
       "Pclass           0\n",
       "Name             0\n",
       "Sex              0\n",
       "Age            177\n",
       "SibSp            0\n",
       "Parch            0\n",
       "Ticket           0\n",
       "Fare             0\n",
       "Cabin          687\n",
       "Embarked         2\n",
       "dtype: int64"
      ]
     },
     "execution_count": 4,
     "metadata": {},
     "output_type": "execute_result"
    }
   ],
   "source": [
    "titanic_dataset.isnull().sum()"
   ]
  },
  {
   "cell_type": "markdown",
   "metadata": {},
   "source": [
    "The Cabin column seems to have too many missing values to provide useful information during analysis. Also since for this particular analysis it won't be used to answer any posed questions, we can safely delete it.<br />\n",
    "The Embarked and Ticket columns will not be used in any of our analysis so those can be removed too. "
   ]
  },
  {
   "cell_type": "code",
   "execution_count": 5,
   "metadata": {},
   "outputs": [
    {
     "data": {
      "text/html": [
       "<div>\n",
       "<table border=\"1\" class=\"dataframe\">\n",
       "  <thead>\n",
       "    <tr style=\"text-align: right;\">\n",
       "      <th></th>\n",
       "      <th>PassengerId</th>\n",
       "      <th>Survived</th>\n",
       "      <th>Pclass</th>\n",
       "      <th>Name</th>\n",
       "      <th>Sex</th>\n",
       "      <th>Age</th>\n",
       "      <th>SibSp</th>\n",
       "      <th>Parch</th>\n",
       "      <th>Fare</th>\n",
       "    </tr>\n",
       "  </thead>\n",
       "  <tbody>\n",
       "    <tr>\n",
       "      <th>0</th>\n",
       "      <td>1</td>\n",
       "      <td>0</td>\n",
       "      <td>3</td>\n",
       "      <td>Braund, Mr. Owen Harris</td>\n",
       "      <td>male</td>\n",
       "      <td>22.0</td>\n",
       "      <td>1</td>\n",
       "      <td>0</td>\n",
       "      <td>7.2500</td>\n",
       "    </tr>\n",
       "    <tr>\n",
       "      <th>1</th>\n",
       "      <td>2</td>\n",
       "      <td>1</td>\n",
       "      <td>1</td>\n",
       "      <td>Cumings, Mrs. John Bradley (Florence Briggs Th...</td>\n",
       "      <td>female</td>\n",
       "      <td>38.0</td>\n",
       "      <td>1</td>\n",
       "      <td>0</td>\n",
       "      <td>71.2833</td>\n",
       "    </tr>\n",
       "    <tr>\n",
       "      <th>2</th>\n",
       "      <td>3</td>\n",
       "      <td>1</td>\n",
       "      <td>3</td>\n",
       "      <td>Heikkinen, Miss. Laina</td>\n",
       "      <td>female</td>\n",
       "      <td>26.0</td>\n",
       "      <td>0</td>\n",
       "      <td>0</td>\n",
       "      <td>7.9250</td>\n",
       "    </tr>\n",
       "    <tr>\n",
       "      <th>3</th>\n",
       "      <td>4</td>\n",
       "      <td>1</td>\n",
       "      <td>1</td>\n",
       "      <td>Futrelle, Mrs. Jacques Heath (Lily May Peel)</td>\n",
       "      <td>female</td>\n",
       "      <td>35.0</td>\n",
       "      <td>1</td>\n",
       "      <td>0</td>\n",
       "      <td>53.1000</td>\n",
       "    </tr>\n",
       "    <tr>\n",
       "      <th>4</th>\n",
       "      <td>5</td>\n",
       "      <td>0</td>\n",
       "      <td>3</td>\n",
       "      <td>Allen, Mr. William Henry</td>\n",
       "      <td>male</td>\n",
       "      <td>35.0</td>\n",
       "      <td>0</td>\n",
       "      <td>0</td>\n",
       "      <td>8.0500</td>\n",
       "    </tr>\n",
       "  </tbody>\n",
       "</table>\n",
       "</div>"
      ],
      "text/plain": [
       "   PassengerId  Survived  Pclass  \\\n",
       "0            1         0       3   \n",
       "1            2         1       1   \n",
       "2            3         1       3   \n",
       "3            4         1       1   \n",
       "4            5         0       3   \n",
       "\n",
       "                                                Name     Sex   Age  SibSp  \\\n",
       "0                            Braund, Mr. Owen Harris    male  22.0      1   \n",
       "1  Cumings, Mrs. John Bradley (Florence Briggs Th...  female  38.0      1   \n",
       "2                             Heikkinen, Miss. Laina  female  26.0      0   \n",
       "3       Futrelle, Mrs. Jacques Heath (Lily May Peel)  female  35.0      1   \n",
       "4                           Allen, Mr. William Henry    male  35.0      0   \n",
       "\n",
       "   Parch     Fare  \n",
       "0      0   7.2500  \n",
       "1      0  71.2833  \n",
       "2      0   7.9250  \n",
       "3      0  53.1000  \n",
       "4      0   8.0500  "
      ]
     },
     "execution_count": 5,
     "metadata": {},
     "output_type": "execute_result"
    }
   ],
   "source": [
    "titanic_data = titanic_dataset.drop(['Cabin','Embarked', 'Ticket'], axis=1)\n",
    "titanic_data.head()"
   ]
  },
  {
   "cell_type": "markdown",
   "metadata": {},
   "source": [
    "The Age column has 177 missing values. Its a large portion of the dataset (almost 20%) and if dropped, we will lose data in other columns. Also the missing values in Age column will not affect any computations or plotting of graphs, as these are ignored in python.\n",
    "\n",
    "But they may affect counts in the dataset, and we may need to account for missing values everytime. So we will remove the missing values from Age column and create a new dataset titanic_df_ages, which will be used for age related calculations. For all other analysis we will use the original titanic_data dataset."
   ]
  },
  {
   "cell_type": "code",
   "execution_count": 6,
   "metadata": {},
   "outputs": [
    {
     "data": {
      "text/plain": [
       "714"
      ]
     },
     "execution_count": 6,
     "metadata": {},
     "output_type": "execute_result"
    }
   ],
   "source": [
    "titanic_df_ages = titanic_data.dropna(subset = ['Age'])\n",
    "titanic_df_ages['PassengerId'].count()\n",
    "# Total 891 - Missing 177 = 714 values"
   ]
  },
  {
   "cell_type": "markdown",
   "metadata": {},
   "source": [
    "<h2>Exploring the Data</h2>\n",
    "\n",
    "Now that we have a reasonably clean dataset, let us find out some basic stats from it. To start with, as we will be dealing with a lot of survival stats, let's first find out what the survival rate is for this dataset."
   ]
  },
  {
   "cell_type": "code",
   "execution_count": 7,
   "metadata": {
    "collapsed": true
   },
   "outputs": [],
   "source": [
    "#Function to compute survival rate\n",
    "def survival_stats(data):\n",
    "    survived = data.groupby('Survived').get_group(1)['PassengerId'].count()\n",
    "    total = data['PassengerId'].count()\n",
    "    print (\"Total Passengers: {}\".format(total))\n",
    "    print (\"Surviving Passengers: {}\".format(survived))\n",
    "    print (\"Percentage of passengers who survived: {:.2f}%\".format(survived*100.00/total))\n"
   ]
  },
  {
   "cell_type": "code",
   "execution_count": 8,
   "metadata": {},
   "outputs": [
    {
     "name": "stdout",
     "output_type": "stream",
     "text": [
      "Total Passengers: 891\n",
      "Surviving Passengers: 342\n",
      "Percentage of passengers who survived: 38.38%\n"
     ]
    }
   ],
   "source": [
    "survival_stats(titanic_data)"
   ]
  },
  {
   "cell_type": "markdown",
   "metadata": {},
   "source": [
    "<h4>Based on this dataset, <b>38.38%</b> of the passengers survived, which means only <b>2</b> out of every <b>5</b> passengers survived.</h4> <br />\n",
    "Let's now look at the Age column and get some general statistics."
   ]
  },
  {
   "cell_type": "code",
   "execution_count": 9,
   "metadata": {},
   "outputs": [
    {
     "data": {
      "text/plain": [
       "count    714.000000\n",
       "mean      29.699118\n",
       "std       14.526497\n",
       "min        0.420000\n",
       "25%       20.125000\n",
       "50%       28.000000\n",
       "75%       38.000000\n",
       "max       80.000000\n",
       "Name: Age, dtype: float64"
      ]
     },
     "execution_count": 9,
     "metadata": {},
     "output_type": "execute_result"
    }
   ],
   "source": [
    "titanic_data['Age'].describe()"
   ]
  },
  {
   "cell_type": "markdown",
   "metadata": {},
   "source": [
    "Mean Age of the passengers aboard the ship: <b>29.69 </b> years. <br />\n",
    "Median Age of the passengers aboard the ship: <b>28 </b> years. <br />\n",
    "Youngest Passenger: <b>< 1</b> year old <br />\n",
    "Oldest Passenger: <b>80 </b> years <br />\n",
    "Standard Deviation: <b>14.52</b> <br />\n",
    "Let's now plot a histogram of the distribution of the ages.\n"
   ]
  },
  {
   "cell_type": "code",
   "execution_count": 10,
   "metadata": {},
   "outputs": [
    {
     "data": {
      "text/plain": [
       "<matplotlib.text.Text at 0x951ab00>"
      ]
     },
     "execution_count": 10,
     "metadata": {},
     "output_type": "execute_result"
    },
    {
     "data": {
      "image/png": "[encoded data removed]",
      "text/plain": [
       "<matplotlib.figure.Figure at 0x9544438>"
      ]
     },
     "metadata": {},
     "output_type": "display_data"
    }
   ],
   "source": [
    "fig = plt.figure()\n",
    "ax = fig.add_subplot(titanic_data['Age'].hist(bins=20))\n",
    "ax.set_title(\"Distribution of Age of Passengers\")\n",
    "ax.set_xlabel('Age')\n",
    "ax.set_ylabel('Number of Passengers')"
   ]
  },
  {
   "cell_type": "markdown",
   "metadata": {},
   "source": [
    "We'll now explore the other statistics from the dataset to find out if some groups of passengers were more likely to survive than others and how much.\n",
    "\n",
    "<h3>How did gender and class affect survival?</h3>"
   ]
  },
  {
   "cell_type": "code",
   "execution_count": 11,
   "metadata": {},
   "outputs": [
    {
     "name": "stdout",
     "output_type": "stream",
     "text": [
      "Total number of passengers by class\n",
      "Pclass\n",
      "1    216\n",
      "2    184\n",
      "3    491\n",
      "Name: PassengerId, dtype: int64\n",
      "Total number of survivors by class\n",
      "Pclass\n",
      "1    136\n",
      "2     87\n",
      "3    119\n",
      "Name: Survived, dtype: int64\n",
      "Percentage of passengers who survived: Pclass\n",
      "1    62.962963\n",
      "2    47.282609\n",
      "3    24.236253\n",
      "dtype: float64\n"
     ]
    }
   ],
   "source": [
    "%matplotlib inline\n",
    "passengers_by_class = titanic_data.groupby('Pclass')['PassengerId'].count()\n",
    "print('Total number of passengers by class')\n",
    "print (passengers_by_class)\n",
    "survivors_by_class = titanic_data.groupby('Pclass')['Survived'].sum()\n",
    "print('Total number of survivors by class')\n",
    "print survivors_by_class\n",
    "print (\"Percentage of passengers who survived: {}\".format(survivors_by_class*100.00/passengers_by_class))"
   ]
  },
  {
   "cell_type": "markdown",
   "metadata": {},
   "source": [
    "Below is a factorplot showing the proportions"
   ]
  },
  {
   "cell_type": "code",
   "execution_count": 12,
   "metadata": {},
   "outputs": [
    {
     "data": {
      "text/plain": [
       "<matplotlib.text.Text at 0x9621908>"
      ]
     },
     "execution_count": 12,
     "metadata": {},
     "output_type": "execute_result"
    },
    {
     "data": {
      "image/png": "[encoded data removed]",
      "text/plain": [
       "<matplotlib.figure.Figure at 0x46fb048>"
      ]
     },
     "metadata": {},
     "output_type": "display_data"
    }
   ],
   "source": [
    "s = sns.factorplot(x=\"Pclass\", y=\"Survived\",\n",
    "                   data=titanic_data, saturation=.5,\n",
    "                    kind=\"bar\", ci=None, aspect=.9)\n",
    "(s.set_axis_labels(\"\", \"Survival Rate\")\n",
    "                    .set_xticklabels([\"1st Class\", \"2nd Class\",\"3rd Class\"]))\n",
    "sns.plt.suptitle('Survival Rate by Class')      "
   ]
  },
  {
   "cell_type": "markdown",
   "metadata": {},
   "source": [
    "A significantly large percentage of passengers survived from the first class, followed by second class and then third.\n",
    "It looks like the first class passengers had priority access to the lifeboats. <h4>Based on this data, a passenger traveling in first class was almost <b>2.7 times</b> more likely to survive than a passenger traveling in third class. <br /></h4>\n",
    "The socioeconomic status/class considerably affected the chances of survival.\n",
    "\n",
    "Now let's take a look at what role gender played in the likelihood of survival."
   ]
  },
  {
   "cell_type": "code",
   "execution_count": 13,
   "metadata": {
    "collapsed": true
   },
   "outputs": [],
   "source": [
    "#Function to compute survival rate by gender\n",
    "def statistics_by_gender(sex):\n",
    "    titanic_df_gender = titanic_data.groupby(['Sex']).get_group((sex))\n",
    "    survival_stats(titanic_df_gender)\n",
    "    "
   ]
  },
  {
   "cell_type": "code",
   "execution_count": 14,
   "metadata": {},
   "outputs": [
    {
     "name": "stdout",
     "output_type": "stream",
     "text": [
      "Statistics for Male Passengers\n",
      "Total Passengers: 577\n",
      "Surviving Passengers: 109\n",
      "Percentage of passengers who survived: 18.89%\n"
     ]
    }
   ],
   "source": [
    "print(\"Statistics for Male Passengers\") \n",
    "statistics_by_gender('male')"
   ]
  },
  {
   "cell_type": "code",
   "execution_count": 15,
   "metadata": {},
   "outputs": [
    {
     "name": "stdout",
     "output_type": "stream",
     "text": [
      "Statistics for Female Passengers\n",
      "Total Passengers: 314\n",
      "Surviving Passengers: 233\n",
      "Percentage of passengers who survived: 74.20%\n"
     ]
    }
   ],
   "source": [
    "print(\"Statistics for Female Passengers\") \n",
    "statistics_by_gender('female')"
   ]
  },
  {
   "cell_type": "markdown",
   "metadata": {},
   "source": [
    "Women had a far greater chance of survival than men.<h4>A man traveling aboard the Titanic had only a <b>18.89%</b> chance of survival. In comparison a woman traveling aboard the Titanic had a <b>74.20%</b> chance of survival. Women were almost <b>4x</b> more likely to survive than men. </h4>\n",
    "\n",
    "This could be because of the 'women and children first' rule that was followed in those days."
   ]
  },
  {
   "cell_type": "markdown",
   "metadata": {},
   "source": [
    "Now these statistics for male and female passengers are for all ages, meaning they also include data for children. Let us consider a child to be a passenger less than 18 years of age for exploration purposes and look at the data for children in more detail. \n",
    "\n",
    "\n",
    "Note: We will use the dataset titanic_df_ages, where missing values in Age Column have been removed, for analysing Age related data."
   ]
  },
  {
   "cell_type": "code",
   "execution_count": 16,
   "metadata": {},
   "outputs": [
    {
     "name": "stdout",
     "output_type": "stream",
     "text": [
      "Survival percentage for children\n",
      "Total Passengers: 113\n",
      "Surviving Passengers: 61\n",
      "Percentage of passengers who survived: 53.98%\n"
     ]
    }
   ],
   "source": [
    "print (\"Survival percentage for children\")\n",
    "titanic_child_df = titanic_df_ages[titanic_df_ages['Age'] < 18]\n",
    "survival_stats(titanic_child_df)"
   ]
  },
  {
   "cell_type": "markdown",
   "metadata": {},
   "source": [
    "<h4>There were 113 children aboard the Titanic, out of which <b>53.98%</b> survived. </h4>\n",
    "\n",
    "How likely were infants to survive? Let's consider children < 1 year of age as infants."
   ]
  },
  {
   "cell_type": "code",
   "execution_count": 17,
   "metadata": {},
   "outputs": [
    {
     "name": "stdout",
     "output_type": "stream",
     "text": [
      "Total Passengers: 7\n",
      "Surviving Passengers: 7\n",
      "Percentage of passengers who survived: 100.00%\n"
     ]
    }
   ],
   "source": [
    "under_age_one_df = titanic_df_ages[titanic_df_ages['Age'] < 1]\n",
    "survival_stats(under_age_one_df)\n"
   ]
  },
  {
   "cell_type": "markdown",
   "metadata": {},
   "source": [
    "<h4>Miraculously, <b>all</b> of the infants in this dataset survived. </h4>\n",
    "\n",
    "That seems like an interesting observation. Does this trend continue? \n",
    "\n",
    "<h3>Were younger children more/less likely to survive than older ones?</h3>\n",
    "\n",
    "Let's visualize this data in form of a histogram."
   ]
  },
  {
   "cell_type": "code",
   "execution_count": 18,
   "metadata": {},
   "outputs": [
    {
     "data": {
      "text/plain": [
       "<matplotlib.legend.Legend at 0xb6c7c88>"
      ]
     },
     "execution_count": 18,
     "metadata": {},
     "output_type": "execute_result"
    },
    {
     "data": {
      "image/png": "[encoded data removed]",
      "text/plain": [
       "<matplotlib.figure.Figure at 0x9621fd0>"
      ]
     },
     "metadata": {},
     "output_type": "display_data"
    }
   ],
   "source": [
    "mpl_fig = plt.figure()\n",
    "ax = mpl_fig.add_subplot(titanic_df_ages[titanic_df_ages['Age'] < 18]['Age'].hist(bins=18))\n",
    "titanic_df_ages[titanic_df_ages['Survived'] == 1][titanic_df_ages['Age'] < 18]['Age'].hist(bins=18)\n",
    "ax.set_title(\"Distribution of Ages of Children\")\n",
    "ax.set_xlabel('Age')\n",
    "ax.set_ylabel('Number of Children')\n",
    "plt.legend([\"Total\",\"Surviving\"],loc=\"upper center\")"
   ]
  },
  {
   "cell_type": "markdown",
   "metadata": {},
   "source": [
    "<h4>From the histogram above, there isn't a clear trend for survival for children based on age.</h4>\n",
    "\n",
    "But there does seem a noticeable decrease in chances of survival for 16 and 17 year olds. One reason could be the cut off age of 18 is arbitary and may not apply in those days. A 16 year old may have qualified as an adult. Or if that is not the case, he may probably look like a grown adult and could have been prohibited from boarding."
   ]
  },
  {
   "cell_type": "markdown",
   "metadata": {},
   "source": [
    "Now let's see how the survival rate varies based on the gender and class together. That is, for each class how was the survival rate for male and female passengers."
   ]
  },
  {
   "cell_type": "code",
   "execution_count": 19,
   "metadata": {
    "collapsed": true
   },
   "outputs": [],
   "source": [
    "#Function to compute survival rate by gender and travel class\n",
    "def statistics_by_gender_and_class(sex,Pclass):\n",
    "    print (sex + \"s in class \" + str(Pclass))\n",
    "    titanic_data_by_class_and_gender = titanic_data.groupby(['Sex','Pclass']).get_group((sex,Pclass))\n",
    "    survival_stats(titanic_data_by_class_and_gender)"
   ]
  },
  {
   "cell_type": "code",
   "execution_count": 20,
   "metadata": {},
   "outputs": [
    {
     "name": "stdout",
     "output_type": "stream",
     "text": [
      "Statistics for Passengers by Gender and Class\n",
      "\n",
      "\n",
      "males in class 1\n",
      "Total Passengers: 122\n",
      "Surviving Passengers: 45\n",
      "Percentage of passengers who survived: 36.89%\n",
      "---------------------------------------------------------------------------------------------------------------------\n",
      "males in class 2\n",
      "Total Passengers: 108\n",
      "Surviving Passengers: 17\n",
      "Percentage of passengers who survived: 15.74%\n",
      "---------------------------------------------------------------------------------------------------------------------\n",
      "males in class 3\n",
      "Total Passengers: 347\n",
      "Surviving Passengers: 47\n",
      "Percentage of passengers who survived: 13.54%\n",
      "---------------------------------------------------------------------------------------------------------------------\n",
      "females in class 1\n",
      "Total Passengers: 94\n",
      "Surviving Passengers: 91\n",
      "Percentage of passengers who survived: 96.81%\n",
      "---------------------------------------------------------------------------------------------------------------------\n",
      "females in class 2\n",
      "Total Passengers: 76\n",
      "Surviving Passengers: 70\n",
      "Percentage of passengers who survived: 92.11%\n",
      "---------------------------------------------------------------------------------------------------------------------\n",
      "females in class 3\n",
      "Total Passengers: 144\n",
      "Surviving Passengers: 72\n",
      "Percentage of passengers who survived: 50.00%\n"
     ]
    }
   ],
   "source": [
    "print(\"Statistics for Passengers by Gender and Class\") \n",
    "print (\"\\n\")\n",
    "statistics_by_gender_and_class('male',1)\n",
    "print (\"---------------------------------------------------------------------------------------------------------------------\")\n",
    "statistics_by_gender_and_class('male',2)\n",
    "print (\"---------------------------------------------------------------------------------------------------------------------\")\n",
    "statistics_by_gender_and_class('male',3)\n",
    "print (\"---------------------------------------------------------------------------------------------------------------------\")\n",
    "statistics_by_gender_and_class('female',1)\n",
    "print (\"---------------------------------------------------------------------------------------------------------------------\")\n",
    "statistics_by_gender_and_class('female',2)\n",
    "print (\"---------------------------------------------------------------------------------------------------------------------\")\n",
    "statistics_by_gender_and_class('female',3)"
   ]
  },
  {
   "cell_type": "code",
   "execution_count": 21,
   "metadata": {},
   "outputs": [
    {
     "data": {
      "image/png": "[encoded data removed]",
      "text/plain": [
       "<matplotlib.figure.Figure at 0x97a7748>"
      ]
     },
     "metadata": {},
     "output_type": "display_data"
    }
   ],
   "source": [
    "s = sns.factorplot(x=\"Sex\", y=\"Survived\", col=\"Pclass\",\n",
    "                   data=titanic_data, saturation=.5,\n",
    "                    kind=\"bar\", ci=None, aspect=.6)\n",
    "(s.set_axis_labels(\"\", \"Survival Rate\")\n",
    "                    .set_xticklabels([\"Men\", \"Women\"]))\n",
    "s.fig.suptitle(\"Survival Rate by Gender in each Class\", size=12)\n",
    "s.fig.subplots_adjust(top=.8)   "
   ]
  },
  {
   "cell_type": "markdown",
   "metadata": {},
   "source": [
    "It's interesting to see from the above analysis, that almost all of the women (<b>96.81%</b>) from first class survived. The rate looked good even for women in second class (<b>92.11%</b>), but it isn't so encouraging for anybody else. In fact the rate for men traveling in second and third class is comparable (<b>15.74%</b> and <b>13.54%</b> respectively). However, in general for both men and women, traveling in upper class seems to lead to better chances of survival."
   ]
  },
  {
   "cell_type": "markdown",
   "metadata": {},
   "source": [
    "Let's take a look now at how other factors may have affected survival. \n",
    "\n",
    "<h3>How did traveling alone vs traveling with spouse/children affect chances of survival? </h3>\n",
    "\n",
    "We have information about whether a passenger was traveling alone or in a group, based on the SibSp and Parch column values. For someone traveling by himself, both the SibSp and Parch values will be 0. For someone traveling with a spouse/sibling SibSp is 1 and for someone traveling with children, Parch is 1. Based on this information let's compute the survival rate. We will consider only adults (age > 18) for this analysis.\n",
    "\n",
    "Note: Again, we will use the dataset titanic_df_ages, where missing values in Age Column have been removed, for analysing Age related data."
   ]
  },
  {
   "cell_type": "code",
   "execution_count": 22,
   "metadata": {},
   "outputs": [
    {
     "name": "stdout",
     "output_type": "stream",
     "text": [
      "Chances of survival of adults traveling with someone\n",
      "Total Passengers: 220\n",
      "Surviving Passengers: 109\n",
      "Percentage of passengers who survived: 49.55%\n"
     ]
    }
   ],
   "source": [
    "print (\"Chances of survival of adults traveling with someone\")\n",
    "adults_with_children = titanic_df_ages[titanic_df_ages['Age'] >= 18][titanic_df_ages['Parch'] > 0]\n",
    "adults_with_adults = titanic_df_ages[titanic_df_ages['Age'] >= 18][titanic_df_ages['SibSp'] > 0]\n",
    "adults_not_traveling_alone = pd.concat([adults_with_children,adults_with_adults],join='outer').drop_duplicates()\n",
    "survival_stats(adults_not_traveling_alone)"
   ]
  },
  {
   "cell_type": "code",
   "execution_count": 23,
   "metadata": {},
   "outputs": [
    {
     "name": "stdout",
     "output_type": "stream",
     "text": [
      "Chances of survival of adults traveling alone\n",
      "Total Passengers: 381\n",
      "Surviving Passengers: 120\n",
      "Percentage of passengers who survived: 31.50%\n"
     ]
    }
   ],
   "source": [
    "print (\"Chances of survival of adults traveling alone\")\n",
    "adults_traveling_alone = titanic_df_ages[titanic_df_ages['Age'] >= 18][titanic_df_ages['Parch'] == 0][titanic_df_ages['SibSp'] == 0]\n",
    "#If the above code gives warning Boolean Series key will be reindexed to match DataFrame index, breaking down the dataframes \n",
    "#df1 = titanic_df[titanic_df['Age'] >= 18]\n",
    "#df2 = df1[df1['Parch'] == 0]\n",
    "#adults_traveling_alone =df2[df2['SibSp'] == 0]\n",
    "survival_stats(adults_traveling_alone)"
   ]
  },
  {
   "cell_type": "markdown",
   "metadata": {},
   "source": [
    "<h4>The chances of survival for an adult traveling alone were lesser <b>(31.50%)</b> than chances of survival for an adult traveling in a family <b>(49.55%)</b>. </h4>\n",
    "\n",
    "We can speculate that this must be the case because children were given a higher priority to get to the lifeboats. So could it be likely that an adult man traveling alone with a child also got access to the lifeboats and that increased his chances of survival?\n",
    "\n",
    "But it's not possible to examine this data separately, as Parch contains both data for parents and children. Consider the data below which contains only males traveling alone having Parch > 0. From this sample, a 28 year old could be traveling with either his mother or daughter. That information cannot be obtained from this dataset."
   ]
  },
  {
   "cell_type": "code",
   "execution_count": 24,
   "metadata": {},
   "outputs": [
    {
     "data": {
      "text/html": [
       "<div>\n",
       "<table border=\"1\" class=\"dataframe\">\n",
       "  <thead>\n",
       "    <tr style=\"text-align: right;\">\n",
       "      <th></th>\n",
       "      <th>PassengerId</th>\n",
       "      <th>Survived</th>\n",
       "      <th>Pclass</th>\n",
       "      <th>Name</th>\n",
       "      <th>Sex</th>\n",
       "      <th>Age</th>\n",
       "      <th>SibSp</th>\n",
       "      <th>Parch</th>\n",
       "      <th>Fare</th>\n",
       "    </tr>\n",
       "  </thead>\n",
       "  <tbody>\n",
       "    <tr>\n",
       "      <th>54</th>\n",
       "      <td>55</td>\n",
       "      <td>0</td>\n",
       "      <td>1</td>\n",
       "      <td>Ostby, Mr. Engelhart Cornelius</td>\n",
       "      <td>male</td>\n",
       "      <td>65.0</td>\n",
       "      <td>0</td>\n",
       "      <td>1</td>\n",
       "      <td>61.9792</td>\n",
       "    </tr>\n",
       "    <tr>\n",
       "      <th>97</th>\n",
       "      <td>98</td>\n",
       "      <td>1</td>\n",
       "      <td>1</td>\n",
       "      <td>Greenfield, Mr. William Bertram</td>\n",
       "      <td>male</td>\n",
       "      <td>23.0</td>\n",
       "      <td>0</td>\n",
       "      <td>1</td>\n",
       "      <td>63.3583</td>\n",
       "    </tr>\n",
       "    <tr>\n",
       "      <th>102</th>\n",
       "      <td>103</td>\n",
       "      <td>0</td>\n",
       "      <td>1</td>\n",
       "      <td>White, Mr. Richard Frasar</td>\n",
       "      <td>male</td>\n",
       "      <td>21.0</td>\n",
       "      <td>0</td>\n",
       "      <td>1</td>\n",
       "      <td>77.2875</td>\n",
       "    </tr>\n",
       "    <tr>\n",
       "      <th>118</th>\n",
       "      <td>119</td>\n",
       "      <td>0</td>\n",
       "      <td>1</td>\n",
       "      <td>Baxter, Mr. Quigg Edmond</td>\n",
       "      <td>male</td>\n",
       "      <td>24.0</td>\n",
       "      <td>0</td>\n",
       "      <td>1</td>\n",
       "      <td>247.5208</td>\n",
       "    </tr>\n",
       "    <tr>\n",
       "      <th>124</th>\n",
       "      <td>125</td>\n",
       "      <td>0</td>\n",
       "      <td>1</td>\n",
       "      <td>White, Mr. Percival Wayland</td>\n",
       "      <td>male</td>\n",
       "      <td>54.0</td>\n",
       "      <td>0</td>\n",
       "      <td>1</td>\n",
       "      <td>77.2875</td>\n",
       "    </tr>\n",
       "    <tr>\n",
       "      <th>148</th>\n",
       "      <td>149</td>\n",
       "      <td>0</td>\n",
       "      <td>2</td>\n",
       "      <td>Navratil, Mr. Michel (\"Louis M Hoffman\")</td>\n",
       "      <td>male</td>\n",
       "      <td>36.5</td>\n",
       "      <td>0</td>\n",
       "      <td>2</td>\n",
       "      <td>26.0000</td>\n",
       "    </tr>\n",
       "    <tr>\n",
       "      <th>153</th>\n",
       "      <td>154</td>\n",
       "      <td>0</td>\n",
       "      <td>3</td>\n",
       "      <td>van Billiard, Mr. Austin Blyler</td>\n",
       "      <td>male</td>\n",
       "      <td>40.5</td>\n",
       "      <td>0</td>\n",
       "      <td>2</td>\n",
       "      <td>14.5000</td>\n",
       "    </tr>\n",
       "    <tr>\n",
       "      <th>155</th>\n",
       "      <td>156</td>\n",
       "      <td>0</td>\n",
       "      <td>1</td>\n",
       "      <td>Williams, Mr. Charles Duane</td>\n",
       "      <td>male</td>\n",
       "      <td>51.0</td>\n",
       "      <td>0</td>\n",
       "      <td>1</td>\n",
       "      <td>61.3792</td>\n",
       "    </tr>\n",
       "    <tr>\n",
       "      <th>160</th>\n",
       "      <td>161</td>\n",
       "      <td>0</td>\n",
       "      <td>3</td>\n",
       "      <td>Cribb, Mr. John Hatfield</td>\n",
       "      <td>male</td>\n",
       "      <td>44.0</td>\n",
       "      <td>0</td>\n",
       "      <td>1</td>\n",
       "      <td>16.1000</td>\n",
       "    </tr>\n",
       "    <tr>\n",
       "      <th>197</th>\n",
       "      <td>198</td>\n",
       "      <td>0</td>\n",
       "      <td>3</td>\n",
       "      <td>Olsen, Mr. Karl Siegwart Andreas</td>\n",
       "      <td>male</td>\n",
       "      <td>42.0</td>\n",
       "      <td>0</td>\n",
       "      <td>1</td>\n",
       "      <td>8.4042</td>\n",
       "    </tr>\n",
       "    <tr>\n",
       "      <th>273</th>\n",
       "      <td>274</td>\n",
       "      <td>0</td>\n",
       "      <td>1</td>\n",
       "      <td>Natsch, Mr. Charles H</td>\n",
       "      <td>male</td>\n",
       "      <td>37.0</td>\n",
       "      <td>0</td>\n",
       "      <td>1</td>\n",
       "      <td>29.7000</td>\n",
       "    </tr>\n",
       "    <tr>\n",
       "      <th>332</th>\n",
       "      <td>333</td>\n",
       "      <td>0</td>\n",
       "      <td>1</td>\n",
       "      <td>Graham, Mr. George Edward</td>\n",
       "      <td>male</td>\n",
       "      <td>38.0</td>\n",
       "      <td>0</td>\n",
       "      <td>1</td>\n",
       "      <td>153.4625</td>\n",
       "    </tr>\n",
       "    <tr>\n",
       "      <th>377</th>\n",
       "      <td>378</td>\n",
       "      <td>0</td>\n",
       "      <td>1</td>\n",
       "      <td>Widener, Mr. Harry Elkins</td>\n",
       "      <td>male</td>\n",
       "      <td>27.0</td>\n",
       "      <td>0</td>\n",
       "      <td>2</td>\n",
       "      <td>211.5000</td>\n",
       "    </tr>\n",
       "    <tr>\n",
       "      <th>659</th>\n",
       "      <td>660</td>\n",
       "      <td>0</td>\n",
       "      <td>1</td>\n",
       "      <td>Newell, Mr. Arthur Webster</td>\n",
       "      <td>male</td>\n",
       "      <td>58.0</td>\n",
       "      <td>0</td>\n",
       "      <td>2</td>\n",
       "      <td>113.2750</td>\n",
       "    </tr>\n",
       "    <tr>\n",
       "      <th>679</th>\n",
       "      <td>680</td>\n",
       "      <td>1</td>\n",
       "      <td>1</td>\n",
       "      <td>Cardeza, Mr. Thomas Drake Martinez</td>\n",
       "      <td>male</td>\n",
       "      <td>36.0</td>\n",
       "      <td>0</td>\n",
       "      <td>1</td>\n",
       "      <td>512.3292</td>\n",
       "    </tr>\n",
       "    <tr>\n",
       "      <th>848</th>\n",
       "      <td>849</td>\n",
       "      <td>0</td>\n",
       "      <td>2</td>\n",
       "      <td>Harper, Rev. John</td>\n",
       "      <td>male</td>\n",
       "      <td>28.0</td>\n",
       "      <td>0</td>\n",
       "      <td>1</td>\n",
       "      <td>33.0000</td>\n",
       "    </tr>\n",
       "  </tbody>\n",
       "</table>\n",
       "</div>"
      ],
      "text/plain": [
       "     PassengerId  Survived  Pclass                                      Name  \\\n",
       "54            55         0       1            Ostby, Mr. Engelhart Cornelius   \n",
       "97            98         1       1           Greenfield, Mr. William Bertram   \n",
       "102          103         0       1                 White, Mr. Richard Frasar   \n",
       "118          119         0       1                  Baxter, Mr. Quigg Edmond   \n",
       "124          125         0       1               White, Mr. Percival Wayland   \n",
       "148          149         0       2  Navratil, Mr. Michel (\"Louis M Hoffman\")   \n",
       "153          154         0       3           van Billiard, Mr. Austin Blyler   \n",
       "155          156         0       1               Williams, Mr. Charles Duane   \n",
       "160          161         0       3                  Cribb, Mr. John Hatfield   \n",
       "197          198         0       3          Olsen, Mr. Karl Siegwart Andreas   \n",
       "273          274         0       1                     Natsch, Mr. Charles H   \n",
       "332          333         0       1                 Graham, Mr. George Edward   \n",
       "377          378         0       1                 Widener, Mr. Harry Elkins   \n",
       "659          660         0       1                Newell, Mr. Arthur Webster   \n",
       "679          680         1       1        Cardeza, Mr. Thomas Drake Martinez   \n",
       "848          849         0       2                         Harper, Rev. John   \n",
       "\n",
       "      Sex   Age  SibSp  Parch      Fare  \n",
       "54   male  65.0      0      1   61.9792  \n",
       "97   male  23.0      0      1   63.3583  \n",
       "102  male  21.0      0      1   77.2875  \n",
       "118  male  24.0      0      1  247.5208  \n",
       "124  male  54.0      0      1   77.2875  \n",
       "148  male  36.5      0      2   26.0000  \n",
       "153  male  40.5      0      2   14.5000  \n",
       "155  male  51.0      0      1   61.3792  \n",
       "160  male  44.0      0      1   16.1000  \n",
       "197  male  42.0      0      1    8.4042  \n",
       "273  male  37.0      0      1   29.7000  \n",
       "332  male  38.0      0      1  153.4625  \n",
       "377  male  27.0      0      2  211.5000  \n",
       "659  male  58.0      0      2  113.2750  \n",
       "679  male  36.0      0      1  512.3292  \n",
       "848  male  28.0      0      1   33.0000  "
      ]
     },
     "execution_count": 24,
     "metadata": {},
     "output_type": "execute_result"
    }
   ],
   "source": [
    "titanic_df_ages[titanic_df_ages['Age'] < 18].count()\n",
    "#titanic_df['Age'].isnull().sum()\n",
    "titanic_df_ages[titanic_df_ages['Age'] >= 18][titanic_df_ages['Sex'] == 'male'][titanic_df_ages['Parch'] >= 1][titanic_df_ages['SibSp']==0]"
   ]
  },
  {
   "cell_type": "markdown",
   "metadata": {},
   "source": [
    "Let's explore now another group of passengers in this data. The data says that children with Parch = 0 were traveling with nannies.\n",
    "\n",
    "<h3>How did the survival statistics for children traveling with nannies compare to children traveling with their parents?</h3>"
   ]
  },
  {
   "cell_type": "code",
   "execution_count": 25,
   "metadata": {},
   "outputs": [
    {
     "name": "stdout",
     "output_type": "stream",
     "text": [
      "Children traveling with nannies\n",
      "Total Passengers: 32\n",
      "Surviving Passengers: 16\n",
      "Percentage of passengers who survived: 50.00%\n",
      "----------------------------------------------------------------\n",
      "Children traveling with parents\n",
      "Total Passengers: 81\n",
      "Surviving Passengers: 45\n",
      "Percentage of passengers who survived: 55.56%\n"
     ]
    }
   ],
   "source": [
    "children_with_nannies =  titanic_df_ages[titanic_df_ages['Age'] < 18][titanic_df_ages['Parch'] == 0]\n",
    "print (\"Children traveling with nannies\")\n",
    "survival_stats(children_with_nannies)\n",
    "print (\"----------------------------------------------------------------\")\n",
    "print (\"Children traveling with parents\")\n",
    "children_with_parents =  titanic_df_ages[titanic_df_ages['Age'] < 18][titanic_df_ages['Parch'] >= 1]\n",
    "survival_stats(children_with_parents)"
   ]
  },
  {
   "cell_type": "markdown",
   "metadata": {},
   "source": [
    "<h4>The rate of survival for children with nannies (<b>50%</b>) is only slightly lower those with parents (<b>55.56%</b>). </h4>"
   ]
  },
  {
   "cell_type": "markdown",
   "metadata": {},
   "source": [
    "<h2>Conclusion</h2>\n",
    "\n",
    "Exploring the Titanic Dataset provides some interesting insights into who the passengers were and how their chances of survival were affected by various factors. The findings of this data analysis though tentative could be summarized as follows:\n",
    "\n",
    "1. Out of the total 891 passengers in this dataset, 342 survived which is 38.38%.\n",
    "2. The mean age of passengers aboard the ship was 29.69 years.\n",
    "3. The youngest passenger was an infant < 1 year old while the oldest passenger was 80 years old.\n",
    "4. Gender considerably affected a person's chance of survival. Women were 4 times more likely than men to survive. \n",
    "5. Passengers in first class had the greatest chance of survival followed in by second and then third class. Passengers in first class were 2.7 times more likely to survive than passengers in third class.\n",
    "5. Passengers traveling with family had a greater chance of survival than those traveling alone.\n",
    "7. Younger children were not more or less likely than older children to survive. There was no particular trend observed.\n",
    "8. No significant difference was observed in the chance of survival for children traveling with parents vs children traveling with nannies. But overall, children had a survival rate of 53.98%.\n",
    "\n",
    "\n",
    "There are however a few limitations of this dataset:\n",
    "\n",
    "1. 177 Age values were missing and were not considered in the analysis. That may have skewed the calculations.\n",
    "2. The information in the Parch column refers to both parents and children combined. If this data was separately available it may have been possible to analyse how survival rate of men and women was affected when they were traveling with their children.\n",
    "3. Most information from the Cabin column is missing, to draw any useful insights about how cabin location may have impacted survival.\n",
    "4. A child is assumed to be someone > 18 years of age. The definition of a child may have been different in those days. If a child is considered of Age < 14 for example, it may change some of the conclusions we have drawn.\n"
   ]
  },
  {
   "cell_type": "markdown",
   "metadata": {},
   "source": [
    "References:<br />\n",
    "https://www.kaggle.com/c/titanic/data<br />\n",
    "https://seaborn.pydata.org/generated/seaborn.factorplot.html<br />\n",
    "http://matplotlib.org/users/legend_guide.html<br />\n",
    "https://plot.ly/matplotlib/axes/<br />\n",
    "https://stackoverflow.com/questions/42528921/how-to-make-the-sns-countplot-larger"
   ]
  }
 ],
 "metadata": {
  "kernelspec": {
   "display_name": "Python [conda env:DAND]",
   "language": "python",
   "name": "conda-env-DAND-py"
  },
  "language_info": {
   "codemirror_mode": {
    "name": "ipython",
    "version": 2
   },
   "file_extension": ".py",
   "mimetype": "text/x-python",
   "name": "python",
   "nbconvert_exporter": "python",
   "pygments_lexer": "ipython2",
   "version": "2.7.12"
  }
 },
 "nbformat": 4,
 "nbformat_minor": 2
}
