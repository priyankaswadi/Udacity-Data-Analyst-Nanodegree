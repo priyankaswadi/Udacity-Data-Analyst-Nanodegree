{
 "cells": [
  {
   "cell_type": "markdown",
   "metadata": {},
   "source": [
    "<h1>OpenStreetMap Data Wrangling using Python and SQL</h1>"
   ]
  },
  {
   "cell_type": "markdown",
   "metadata": {},
   "source": [
    "<h2>Map Area</h2>\n",
    "\n",
    "<h3>Albany, NY, United States</h3>\n",
    "\n",
    "http://www.openstreetmap.org/export#map=11/42.7805/-73.8501 \n",
    "\n",
    "I chose this city, as I have been living in this area for last five years and would like an opportunity to contribute to its improvement in the openstreetmap.org project. I have chosen to explore the suburbs of Albany, NY rather than the downtown area."
   ]
  },
  {
   "cell_type": "markdown",
   "metadata": {},
   "source": [
    "<h2>Problems encountered in the map</h2>\n",
    "\n",
    "After downloading the dataset and running it against a provisional data.py file, I noticed the following main problems with the dataset, as follows:\n",
    "\n",
    "<ul>\n",
    "  <li>Abbreviated and nonuniform street names ('St.', 'St', 'street', 'Ave', 'Ave.' etc).</li>\n",
    "  <li>Incomplete street names (Sparrowbush, Deltour etc.).</li>\n",
    "  <li>Inconsistent and incorrectly entered postal codes (12303-9998, 12180-8368 etc.).</li>\n",
    "  <li>Incorrect city names (Schenectary, Rexrford etc.).</li>\n",
    "</ul>  "
   ]
  },
  {
   "cell_type": "markdown",
   "metadata": {},
   "source": [
    "<h3>Abbreviated and incomplete street names</h3>\n",
    "\n",
    "The osm file revealed basic street name inconsistencies caused due to abbreviations or use of small case letters. Some street names were incorrectly entered and were missing street type, for example Sparrowbush instead of Sparrowbush Road. An attempt was made in audit.py to fix these problems by replacing \"St.\" with \"Street\", \"road\" with \"Road\", \"rt\" with \"Route\" etc. \n",
    "\n",
    "A list of expected street types like Street, Avenue, Circle etc. was created which do not need to be cleaned. If the last word of a street type was not in the expected list, they were stored in a separate dictionary. It gave an idea about what inconsistent street types are present in the data. The osm file was scanned for tags that were street names (type=\"addr:street\") and the old abbreviated street name was mapped to a new better one using a mapping dictionary. A snippet of the code to update street name is given below."
   ]
  },
  {
   "cell_type": "code",
   "execution_count": 7,
   "metadata": {
    "collapsed": true
   },
   "outputs": [],
   "source": [
    "def update_name(name, mapping):    \n",
    "    n = street_type_re.search(name) #get the street type\n",
    "    if n:\n",
    "        n = n.group()\n",
    "    for m in mapping: # check if a better name exists for a street type in mapping dict\n",
    "        if n == m:\n",
    "            name = name[:-len(n)] + mapping[m] #replace old name with new\n",
    "    return name"
   ]
  },
  {
   "cell_type": "markdown",
   "metadata": {},
   "source": [
    "<h3>Incorrect postal codes</h3>\n",
    "\n",
    "Most postal codes in the Capital District region are all five digits for this map, but some are 9 digits having trailing digits (12180-8368) after the first five digits. Wrote some code to drop the trailing digits and the  '-' after the five digit postal code. \n",
    "\n",
    "One particular postal code 1220y stood out as incorrectly entered. I needed to find out what address it belonged to in order to replace it with the correct code. It belonged to<i> 1, State Street, Albany</i> which has zip code 12207."
   ]
  },
  {
   "cell_type": "code",
   "execution_count": 11,
   "metadata": {
    "collapsed": true
   },
   "outputs": [],
   "source": [
    "def update_postcode(postcode):   #update postal code to remove trailing digits\n",
    "    if len(postcode)==10 and postcode[5] == '-':\n",
    "        return postcode[:5]\n",
    "    elif postcode == \"1220y\":# update the one instance of incorrectly entered postal code for this extract\n",
    "        return \"12207\"\n",
    "    else:\n",
    "        return postcode"
   ]
  },
  {
   "cell_type": "markdown",
   "metadata": {},
   "source": [
    "<h3>Incorrect City Names</h3>\n",
    "\n",
    "While most city names in this dataset were fine, some were incorrectly spelled. Like Schenectary instead of Schenectady. "
   ]
  },
  {
   "cell_type": "code",
   "execution_count": 9,
   "metadata": {
    "collapsed": true
   },
   "outputs": [],
   "source": [
    "def update_city(name, mapping_city):   \n",
    "    for m in mapping_city:        #replace incorrect name with correct one from mapping dict\n",
    "        if name == m:            \n",
    "            name = mapping_city[m]\n",
    "    return name"
   ]
  },
  {
   "cell_type": "markdown",
   "metadata": {},
   "source": [
    "<h2>Data Overview and Statistics</h2>\n",
    "\n",
    "The data from the OSM XML file was converted to tabular form which could be written into CSV files. These CSV files could easily be imported to SQL tables.\n",
    "\n",
    "<h3>File Sizes</h3>"
   ]
  },
  {
   "cell_type": "code",
   "execution_count": 10,
   "metadata": {},
   "outputs": [
    {
     "name": "stdout",
     "output_type": "stream",
     "text": [
      "The albany.osm file is 95.825419 MB\n",
      "The osm.db file is 67.355648 MB\n",
      "The nodes.csv file is 34.323738 MB\n",
      "The nodes_tags.csv file is 2.893896 MB\n",
      "The ways.csv file is 2.874296 MB\n",
      "The ways_tags.csv is 8.955983 MB\n",
      "The ways_nodes.csv is 11.009704 MB\n"
     ]
    }
   ],
   "source": [
    "import os\n",
    "print('The albany.osm file is {} MB'.format(os.path.getsize('albany.osm')/1.0e6))\n",
    "print('The osm.db file is {} MB'.format(os.path.getsize('osm.db')/1.0e6))\n",
    "print('The nodes.csv file is {} MB'.format(os.path.getsize('nodes.csv')/1.0e6))\n",
    "print('The nodes_tags.csv file is {} MB'.format(os.path.getsize('nodes_tags.csv')/1.0e6))\n",
    "print('The ways.csv file is {} MB'.format(os.path.getsize('ways.csv')/1.0e6))\n",
    "print('The ways_tags.csv is {} MB'.format(os.path.getsize('ways_tags.csv')/1.0e6))\n",
    "print('The ways_nodes.csv is {} MB'.format(os.path.getsize('ways_nodes.csv')/1.0e6))"
   ]
  },
  {
   "cell_type": "markdown",
   "metadata": {},
   "source": [
    "<h3>Number of nodes</h3>"
   ]
  },
  {
   "cell_type": "markdown",
   "metadata": {},
   "source": [
    "<p style=\"background-color:#F1EDED;\"><br />&nbsp;&nbsp;sqlite> SELECT COUNT(*) FROM nodes;<br /><br /></p>\n"
   ]
  },
  {
   "cell_type": "markdown",
   "metadata": {},
   "source": [
    "397468"
   ]
  },
  {
   "cell_type": "markdown",
   "metadata": {},
   "source": [
    "<h3>Number of ways</h3>"
   ]
  },
  {
   "cell_type": "markdown",
   "metadata": {},
   "source": [
    "\n",
    "<p style=\"background-color:#F1EDED;\"><br />&nbsp;&nbsp;sqlite> SELECT COUNT(*) FROM ways;<br /><br /></p>\n"
   ]
  },
  {
   "cell_type": "markdown",
   "metadata": {},
   "source": [
    "46401"
   ]
  },
  {
   "cell_type": "markdown",
   "metadata": {},
   "source": [
    "<h3>Number of unique contributing users</h3>"
   ]
  },
  {
   "cell_type": "markdown",
   "metadata": {},
   "source": [
    "<p style=\"background-color:#F1EDED;\"><br />&nbsp;&nbsp;\n",
    "sqlite> SELECT COUNT(DISTINCT(e.uid))<br />\n",
    "&nbsp;&nbsp;&nbsp;&nbsp;&nbsp;&nbsp;&nbsp;&nbsp;&nbsp;&nbsp;&nbsp;&nbsp;&nbsp;&nbsp;   ...> FROM (SELECT uid FROM nodes UNION ALL SELECT uid FROM ways) e;\n",
    "<br /><br /></p>   "
   ]
  },
  {
   "cell_type": "markdown",
   "metadata": {},
   "source": [
    "556"
   ]
  },
  {
   "cell_type": "markdown",
   "metadata": {},
   "source": [
    "<h3>Top contributing users</h3>"
   ]
  },
  {
   "cell_type": "markdown",
   "metadata": {},
   "source": [
    "<p style=\"background-color:#F1EDED;\"><br />&nbsp;&nbsp; SELECT e.user, COUNT(*) as num<br />\n",
    "&nbsp;&nbsp; FROM (SELECT user FROM nodes UNION ALL SELECT user FROM ways) e<br />\n",
    "&nbsp;&nbsp;    GROUP BY e.user<br />\n",
    "&nbsp;&nbsp; ORDER BY num DESC<br /><br /></p>"
   ]
  },
  {
   "cell_type": "markdown",
   "metadata": {},
   "source": [
    "\"nfgusedautoparts\"\t\"101654\"<br />\n",
    "\"woodpeck_fixbot\"\t\"97147\"<br />\n",
    "\"JessAk71\"\t\"50979\"<br />\n",
    "\"ke9tv\"\t\"35085\"<br />\n",
    "\"KindredCoda\"\t\"21036\"<br />\n",
    "\"RussNelson\"\t\"15605\"<br />\n",
    "\"Юкатан\"\t\"12697\"<br />\n",
    "\"eugenebata\"\t\"6639\"<br />\n",
    "\"bmcbride\"\t\"6056\"<br />\n",
    "\"EdSS\"\t\"5713\"<br />"
   ]
  },
  {
   "cell_type": "markdown",
   "metadata": {},
   "source": [
    "<h3>Users whose posts appear only once</h3>"
   ]
  },
  {
   "cell_type": "markdown",
   "metadata": {},
   "source": [
    "<p style=\"background-color:#F1EDED;\"><br />&nbsp;&nbsp; sqlite> SELECT COUNT(*)<br />\n",
    "&nbsp;&nbsp;    ...> FROM<br />\n",
    "&nbsp;&nbsp;    ...>     (SELECT e.user, COUNT(*) as num<br />\n",
    "&nbsp;&nbsp;    ...>      FROM (SELECT user FROM nodes UNION ALL SELECT user FROM ways) e<br />\n",
    "&nbsp;&nbsp;    ...>      GROUP BY e.user<br />\n",
    "&nbsp;&nbsp;    ...>      HAVING num=1)  u;<br /><br /></p>"
   ]
  },
  {
   "cell_type": "markdown",
   "metadata": {},
   "source": [
    "116"
   ]
  },
  {
   "cell_type": "markdown",
   "metadata": {},
   "source": [
    "<h2>Additional Data Exploration</h2>"
   ]
  },
  {
   "cell_type": "markdown",
   "metadata": {},
   "source": [
    "<h3>Most Popular Cuisines</h3>"
   ]
  },
  {
   "cell_type": "markdown",
   "metadata": {},
   "source": [
    "<p style=\"background-color:#F1EDED;\"><br />&nbsp;&nbsp;sqlite> SELECT tags.value, COUNT(*) as num<br />\n",
    "&nbsp;&nbsp;&nbsp;&nbsp;   FROM (SELECT * FROM nodes_tags<br />\n",
    "&nbsp;&nbsp;&nbsp;&nbsp;   UNION ALL<br />\n",
    "&nbsp;&nbsp;&nbsp;&nbsp;   SELECT * FROM ways_tags) tags<br />\n",
    "&nbsp;&nbsp;&nbsp;&nbsp;   WHERE tags.key = 'cuisine'<br />\n",
    "&nbsp;&nbsp;&nbsp;&nbsp;   GROUP BY tags.value<br />\n",
    "&nbsp;&nbsp;&nbsp;&nbsp;   ORDER BY num DESC LIMIT 10;<br /><br /></p>"
   ]
  },
  {
   "cell_type": "markdown",
   "metadata": {},
   "source": [
    "pizza,74 <br />\n",
    "sandwich,63<br />\n",
    "burger,62<br />\n",
    "italian,39<br />\n",
    "chinese,33<br />\n",
    "mexican,23<br />\n",
    "coffee_shop,16<br />\n",
    "donut,16<br />\n",
    "diner,13<br />\n",
    "american,12<br />"
   ]
  },
  {
   "cell_type": "markdown",
   "metadata": {},
   "source": [
    "<h3>Most popular pizza places</h3>\n",
    "\n",
    "Since pizza is one of the most popular food here, which are the places serving pizza?"
   ]
  },
  {
   "cell_type": "markdown",
   "metadata": {},
   "source": [
    "<p style=\"background-color:#F1EDED;\"><br />&nbsp;&nbsp;SELECT tags.value, COUNT(*) as total_num<br />\n",
    "&nbsp;&nbsp;&nbsp;&nbsp;&nbsp;&nbsp;&nbsp;&nbsp;FROM (<br />\n",
    "&nbsp;&nbsp;&nbsp;&nbsp;&nbsp;&nbsp;&nbsp;&nbsp;&nbsp;&nbsp;&nbsp;&nbsp;&nbsp;&nbsp;&nbsp;&nbsp;SELECT * FROM nodes_tags <br />\n",
    "&nbsp;&nbsp;&nbsp;&nbsp;&nbsp;&nbsp;&nbsp;&nbsp;&nbsp;&nbsp;&nbsp;&nbsp;&nbsp;&nbsp;&nbsp;&nbsp;JOIN (SELECT DISTINCT(id) FROM nodes_tags WHERE value = \"pizza\") i ON nodes_tags.id = i.id  <br />    \n",
    "&nbsp;&nbsp;&nbsp;&nbsp;&nbsp;&nbsp;&nbsp;&nbsp;&nbsp;&nbsp;&nbsp;&nbsp;&nbsp;&nbsp;&nbsp;&nbsp;UNION ALL<br />\n",
    "&nbsp;&nbsp;&nbsp;&nbsp;&nbsp;&nbsp;&nbsp;&nbsp;&nbsp;&nbsp;&nbsp;&nbsp;&nbsp;&nbsp;&nbsp;&nbsp;SELECT * FROM ways_tags<br /> \n",
    "&nbsp;&nbsp;&nbsp;&nbsp;&nbsp;&nbsp;&nbsp;&nbsp;&nbsp;&nbsp;&nbsp;&nbsp;&nbsp;&nbsp;&nbsp;&nbsp;JOIN (SELECT DISTINCT(id) FROM ways_tags WHERE value = \"pizza\") j ON ways_tags.id = j.id<br />\n",
    "&nbsp;&nbsp;&nbsp;&nbsp;&nbsp;&nbsp;&nbsp;&nbsp;&nbsp;&nbsp;&nbsp;&nbsp;&nbsp;&nbsp;&nbsp;&nbsp;&nbsp;&nbsp;&nbsp;) tags<br />\n",
    "&nbsp;&nbsp;&nbsp;&nbsp;&nbsp;&nbsp;&nbsp;&nbsp;WHERE tags.key = 'name'<br />\n",
    "&nbsp;&nbsp;&nbsp;&nbsp;&nbsp;&nbsp;&nbsp;&nbsp;GROUP BY tags.value<br />\n",
    "&nbsp;&nbsp;&nbsp;&nbsp;&nbsp;&nbsp;&nbsp;&nbsp;ORDER BY total_num DESC LIMIT 10;<br /><br /></p>"
   ]
  },
  {
   "cell_type": "markdown",
   "metadata": {},
   "source": [
    "\"I Love NY Pizza\",3<br />\n",
    "\"Papa John's\",3<br />\n",
    "\"Pizza Hut\",3<br />\n",
    "\"Domino's Pizza\",2<br />\n",
    "Dominos,2<br />\n",
    "\"Paesan's Pizza\",2<br />\n",
    "\"A J's Pizzeria\",1<br />\n",
    "\"Bacchus Woodfired\",1<br />\n",
    "\"Big Guys Pizzeria\",1<br />\n",
    "\"Chef's Takeout Restaurant\",1<br />"
   ]
  },
  {
   "cell_type": "markdown",
   "metadata": {},
   "source": [
    "<h3>Top Fast Food Chains</h3>"
   ]
  },
  {
   "cell_type": "markdown",
   "metadata": {},
   "source": [
    "<p style=\"background-color:#F1EDED;\"><br />&nbsp;&nbsp;SELECT tags.value, COUNT(*) as total_num<br />\n",
    "&nbsp;&nbsp;&nbsp;&nbsp;&nbsp;&nbsp;&nbsp;&nbsp;FROM (SELECT * FROM nodes_tags <br />\n",
    "&nbsp;&nbsp;&nbsp;&nbsp;&nbsp;&nbsp;&nbsp;&nbsp;&nbsp;&nbsp;&nbsp;&nbsp;&nbsp;&nbsp;&nbsp;&nbsp;JOIN (SELECT DISTINCT(id) FROM<br /> &nbsp;&nbsp;&nbsp;&nbsp;&nbsp;&nbsp;&nbsp;&nbsp;&nbsp;&nbsp;&nbsp;&nbsp;&nbsp;&nbsp;&nbsp;&nbsp;nodes_tags WHERE value = \"fast_food\") i ON nodes_tags.id = i.id<br />         \n",
    "&nbsp;&nbsp;&nbsp;&nbsp;&nbsp;&nbsp;&nbsp;&nbsp;&nbsp;&nbsp;&nbsp;&nbsp;&nbsp;&nbsp;&nbsp;&nbsp;UNION ALL<br />\n",
    "&nbsp;&nbsp;&nbsp;&nbsp;&nbsp;&nbsp;&nbsp;&nbsp;&nbsp;&nbsp;&nbsp;&nbsp;&nbsp;&nbsp;&nbsp;&nbsp;SELECT * FROM ways_tags <br />\n",
    "&nbsp;&nbsp;&nbsp;&nbsp;&nbsp;&nbsp;&nbsp;&nbsp;&nbsp;&nbsp;&nbsp;&nbsp;&nbsp;&nbsp;&nbsp;&nbsp;JOIN (SELECT DISTINCT(id) FROM ways_tags WHERE value = \"fast_food\") j ON ways_tags.id = j.id <br />\n",
    "&nbsp;&nbsp;&nbsp;&nbsp;&nbsp;&nbsp;&nbsp;&nbsp;&nbsp;&nbsp;&nbsp;&nbsp;&nbsp;&nbsp;&nbsp;&nbsp;&nbsp;&nbsp;&nbsp;) tags<br />\n",
    "&nbsp;&nbsp;&nbsp;&nbsp;&nbsp;&nbsp;&nbsp;&nbsp;WHERE tags.key = 'name'<br />\n",
    "&nbsp;&nbsp;&nbsp;&nbsp;&nbsp;&nbsp;&nbsp;&nbsp;GROUP BY tags.value<br />\n",
    "&nbsp;&nbsp;&nbsp;&nbsp;&nbsp;&nbsp;&nbsp;&nbsp;ORDER BY total_num DESC LIMIT 10;<br /><br /></p>\n",
    "    "
   ]
  },
  {
   "cell_type": "markdown",
   "metadata": {},
   "source": [
    "\"Dunkin' Donuts\",33<br />\n",
    "\"McDonald's\",27<br />\n",
    "Subway,24<br />\n",
    "\"Burger King\",13<br />\n",
    "\"Subway Subs\",10<br />\n",
    "\"Wendy's\",10<br />\n",
    "\"Mr Subb\",8<br />\n",
    "\"Taco Bell\",6<br />\n",
    "\"Bruegger's Bagels\",4<br />\n",
    "\"Moe's Southwest Grill\",4<br />"
   ]
  },
  {
   "cell_type": "markdown",
   "metadata": {},
   "source": [
    "<h3>Number of Stewart's' Shops</h3>\n",
    "\n",
    "Stewart's is a very popular convenience store in this area. How many Stewart's stores are there in the map?"
   ]
  },
  {
   "cell_type": "markdown",
   "metadata": {},
   "source": [
    "<p style=\"background-color:#F1EDED;\"><br />&nbsp;&nbsp;SELECT COUNT(*) FROM <br />\n",
    "&nbsp;&nbsp;(SELECT * FROM nodes_tags WHERE value LIKE \"Stewart's\"<br /> \n",
    "&nbsp;&nbsp;UNION ALL <br />\n",
    "&nbsp;&nbsp;SELECT * FROM ways_tags WHERE value LIKE \"Stewart's\" );<br /><br /></p>"
   ]
  },
  {
   "cell_type": "markdown",
   "metadata": {},
   "source": [
    "121"
   ]
  },
  {
   "cell_type": "markdown",
   "metadata": {},
   "source": [
    "How are they spread across the region? What cities have most shops?"
   ]
  },
  {
   "cell_type": "markdown",
   "metadata": {},
   "source": [
    "<p style=\"background-color:#F1EDED;\"><br />&nbsp;&nbsp;SELECT tags.value, COUNT(*) as total_num<br />\n",
    "&nbsp;&nbsp;&nbsp;&nbsp;&nbsp;&nbsp;&nbsp;&nbsp;FROM (SELECT * FROM nodes_tags <br />\n",
    "&nbsp;&nbsp;&nbsp;&nbsp;&nbsp;&nbsp;&nbsp;&nbsp;&nbsp;&nbsp;&nbsp;&nbsp;&nbsp;&nbsp;&nbsp;&nbsp;JOIN (SELECT DISTINCT(id) FROM nodes_tags WHERE value LIKE \"Stewart's\") i ON nodes_tags.id = i.id      <br />\n",
    "&nbsp;&nbsp;&nbsp;&nbsp;&nbsp;&nbsp;&nbsp;&nbsp;&nbsp;&nbsp;&nbsp;&nbsp;&nbsp;&nbsp;&nbsp;&nbsp;UNION ALL<br />\n",
    "&nbsp;&nbsp;&nbsp;&nbsp;&nbsp;&nbsp;&nbsp;&nbsp;&nbsp;&nbsp;&nbsp;&nbsp;&nbsp;&nbsp;&nbsp;&nbsp;SELECT * FROM ways_tags<br />\n",
    "&nbsp;&nbsp;&nbsp;&nbsp;&nbsp;&nbsp;&nbsp;&nbsp;&nbsp;&nbsp;&nbsp;&nbsp;&nbsp;&nbsp;&nbsp;&nbsp;JOIN (SELECT DISTINCT(id) FROM ways_tags WHERE value LIKE \"Stewart's\") j ON ways_tags.id = j.id <br />\n",
    "&nbsp;&nbsp;&nbsp;&nbsp;&nbsp;&nbsp;&nbsp;&nbsp;&nbsp;&nbsp;&nbsp;&nbsp;&nbsp;&nbsp;&nbsp;&nbsp;) tags<br />\n",
    "&nbsp;&nbsp;&nbsp;&nbsp;&nbsp;&nbsp;&nbsp;&nbsp;WHERE tags.key = 'city'<br />\n",
    "&nbsp;&nbsp;&nbsp;&nbsp;&nbsp;&nbsp;&nbsp;&nbsp;GROUP BY tags.value<br />\n",
    "&nbsp;&nbsp;&nbsp;&nbsp;&nbsp;&nbsp;&nbsp;&nbsp;ORDER BY total_num DESC<br />\n",
    "&nbsp;&nbsp;&nbsp;&nbsp;&nbsp;&nbsp;&nbsp;&nbsp;LIMIT 5;<br /><br /></p>"
   ]
  },
  {
   "cell_type": "markdown",
   "metadata": {},
   "source": [
    "Albany,13<br />\n",
    "Schenectady,11<br />\n",
    "Troy,9<br />\n",
    "Scotia,4<br />\n",
    "Altamont,3<br />"
   ]
  },
  {
   "cell_type": "markdown",
   "metadata": {},
   "source": [
    "<h3>Analysing timestamps</h3>\n",
    "\n",
    "Since the timestamps for all data entries are available in both nodes and ways tags, I decided to take a look if the map has been kept up to date by volunteers or it needs more contribution? The following bar graph shows the frequency of entries by year."
   ]
  },
  {
   "attachments": {},
   "cell_type": "markdown",
   "metadata": {},
   "source": [
    "<img src=\"images/plot.png\">\n",
    "\n",
    "The figure shows that while 2009 has maximum entries, for the consecutive years the map has been consistently updated too, until recently in October 2017."
   ]
  },
  {
   "cell_type": "markdown",
   "metadata": {},
   "source": [
    "<h2>Conclusion</h2>\n",
    "\n",
    "The data for Albany, NY area was cleaned and street names, postal codes and city data was validated for accuracy. Some basic statistics about the data were obtained and additional exploration about popular cuisines, pizza places, fast food chains etc. was done.\n",
    "\n",
    "<h3>Additional Ideas for improving OSM</h3>\n",
    "\n",
    "After this review, it's seen that the data for Albany area is incomplete, though I believe it's been well cleaned for this exercise. Some additional ideas that I came across which can be implemented:\n",
    "\n",
    "<ul>\n",
    "  <li>While looking at Stewart Shops in the area, I found that some shops were missing the city field. This also seems to be the case for other entries. Data entries should be validated for completeness.</li>\n",
    "  <li>Subway and Subway Subs point to the same chain but are listed separately. This data can be cleaned up.</li>\n",
    "  <li>Pizza Hut is listed as both pizza and fast food. This information should be standardized.</li>\n",
    "  <li>The timestamps of entries can be further analysed to find out how recent the data is, and how frequently it is being contributed to. This could help contributors to find where there is most need of updating the data.</li>\n",
    "</ul>  \n",
    "\n",
    "<h3>Benefits and anticipated problems</h3>\n",
    "\n",
    "Standardizing the data on openstreetmap.org and validating it for correctness and completeness will make the data more useful and accessible to customers, increasing it's popularity too. It will bring it at par with other popular map services like Google or Bing Maps which in turn will help improve the data, as more people would contribute to the project. \n",
    "\n",
    "But since OSM is run entirely by volunteers, doing this could be more challenging. For example, it may not be practical to physically verify latest location information. Or to obtain missing information. \n",
    "\n",
    "Implementing some methods of cross validation might help. So would encouraging creation of better bots/scripts to import data to OSM.\n",
    "\n"
   ]
  }
 ],
 "metadata": {
  "kernelspec": {
   "display_name": "Python [conda env:DAND]",
   "language": "python",
   "name": "conda-env-DAND-py"
  },
  "language_info": {
   "codemirror_mode": {
    "name": "ipython",
    "version": 2
   },
   "file_extension": ".py",
   "mimetype": "text/x-python",
   "name": "python",
   "nbconvert_exporter": "python",
   "pygments_lexer": "ipython2",
   "version": "2.7.12"
  }
 },
 "nbformat": 4,
 "nbformat_minor": 2
}
